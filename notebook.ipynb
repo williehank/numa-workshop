{
 "metadata": {
  "language_info": {
   "codemirror_mode": {
    "name": "ipython",
    "version": 3
   },
   "file_extension": ".py",
   "mimetype": "text/x-python",
   "name": "python",
   "nbconvert_exporter": "python",
   "pygments_lexer": "ipython3",
   "version": "3.8.5-final"
  },
  "orig_nbformat": 2,
  "kernelspec": {
   "name": "python38564bite98d475c27b04617851a7a5453598aaa",
   "display_name": "Python 3.8.5 64-bit"
  }
 },
 "nbformat": 4,
 "nbformat_minor": 2,
 "cells": [
  {
   "source": [
    "# Python Basics"
   ],
   "cell_type": "markdown",
   "metadata": {}
  },
  {
   "source": [
    "## Defining Variables"
   ],
   "cell_type": "markdown",
   "metadata": {}
  },
  {
   "cell_type": "code",
   "execution_count": null,
   "metadata": {},
   "outputs": [],
   "source": [
    "# Integers\n",
    "x = 7\n",
    "y = 12"
   ]
  },
  {
   "cell_type": "code",
   "execution_count": null,
   "metadata": {},
   "outputs": [],
   "source": [
    "# Floats\n",
    "f1 = 12.3\n",
    "f2 = 5.4"
   ]
  },
  {
   "source": [
    "## Basic Arithmetic"
   ],
   "cell_type": "markdown",
   "metadata": {}
  },
  {
   "cell_type": "code",
   "execution_count": null,
   "metadata": {},
   "outputs": [],
   "source": [
    "# Addition\n",
    "add = 2 + 2\n",
    "z = x + y\n",
    "z = f1 + f2\n",
    "\n",
    "z = x + f1"
   ]
  },
  {
   "cell_type": "code",
   "execution_count": null,
   "metadata": {},
   "outputs": [],
   "source": [
    "# Subtraction\n",
    "sub = 10 - 2\n",
    "z = y - x\n",
    "z = f1 - f2\n",
    "\n",
    "z = x - f1"
   ]
  },
  {
   "cell_type": "code",
   "execution_count": null,
   "metadata": {},
   "outputs": [],
   "source": [
    "# Multiplication\n",
    "mul = 10 * 3\n",
    "z = x * y\n",
    "z = f1 * f2\n",
    "\n",
    "z = x * f1"
   ]
  },
  {
   "cell_type": "code",
   "execution_count": null,
   "metadata": {},
   "outputs": [],
   "source": [
    "# Modulo\n",
    "mod = 15 % 5\n",
    "mod2 = 17 % 5"
   ]
  },
  {
   "cell_type": "code",
   "execution_count": null,
   "metadata": {},
   "outputs": [],
   "source": [
    "# Powers\n",
    "po = 2**3"
   ]
  },
  {
   "cell_type": "code",
   "execution_count": null,
   "metadata": {},
   "outputs": [],
   "source": [
    "# Below write an expression for each arithmetic operation and print its output \n",
    "\n"
   ]
  },
  {
   "source": [
    "## Conditional Expressions"
   ],
   "cell_type": "markdown",
   "metadata": {}
  },
  {
   "cell_type": "code",
   "execution_count": null,
   "metadata": {},
   "outputs": [],
   "source": [
    "x = \"a\"\n",
    "y = \"b\"\n",
    "\n",
    "# print(1 < 2)\n",
    "# print(1 >= 1)\n",
    "# print(x == y)\n",
    "\n",
    "#print(10 < 3 or 17 < 16)\n",
    "#print(10 < 3 or 17 > 16)\n",
    "\n",
    "#print(10 > 3 and 17 > 16)\n",
    "#print(10 < 3 and 17 > 16)\n",
    "\n",
    "#print(True or True)\n",
    "#print(True and False)\n",
    "#print(False and False)\n",
    "#print(not(False and False))"
   ]
  },
  {
   "cell_type": "code",
   "execution_count": null,
   "metadata": {},
   "outputs": [],
   "source": [
    "# Below ascertain the results of the following Boolean statements \n",
    "# Then print to determine if you were correct\n",
    "\n",
    "print(not(True and True))\n",
    "# Answer:\n",
    "\n",
    "print(True or False)\n",
    "# Answer: \n",
    "\n",
    "print(not(False and True))\n",
    "# Answer: \n",
    "\n",
    "print(False and False)\n",
    "# Answer: "
   ]
  },
  {
   "source": [
    "## Strings"
   ],
   "cell_type": "markdown",
   "metadata": {}
  },
  {
   "cell_type": "code",
   "execution_count": null,
   "metadata": {},
   "outputs": [],
   "source": [
    "# String\n",
    "\n",
    "myName = \"Claire\"\n",
    "hisName = 'Will'\n",
    "sentence = \"This is a string as a sentence\"\n",
    "notInteger = \"34\"\n",
    "\n",
    "# Concatenating\n",
    "con = (sentence + \" \" + myName)\n",
    "con2 = (sentence + \" \" + myName + \".\")\n",
    "\n",
    "\n",
    "# Substring\n",
    "firstWord = sentence[:4]\n",
    "notFirst = sentence[4:]\n",
    "random = sentence[5:10]\n",
    "\n",
    "\n",
    "# Length\n",
    "length = len(myName)\n",
    "\n",
    "# Index\n",
    "ind = sentence.index(\"string\")\n",
    "ind2 = hisName.index('i')"
   ]
  },
  {
   "cell_type": "code",
   "execution_count": null,
   "metadata": {},
   "outputs": [],
   "source": [
    "# Below create a new string buy concatenating two or more other strings\n",
    "\n",
    "\n",
    "# Below, using substring select only the word \"yes\" from the sentence \"I wanted to answer yes, not no\"\n",
    "\n"
   ]
  },
  {
   "source": [
    "## Lists"
   ],
   "cell_type": "markdown",
   "metadata": {}
  },
  {
   "cell_type": "code",
   "execution_count": null,
   "metadata": {},
   "outputs": [],
   "source": [
    "nums = [1, 2, 3, 4]\n",
    "abc = [\"a\", \"b\", \"c\"]\n",
    "mix = [4, \"d\", 17.2]\n",
    "\n",
    "myName = \"Claire\"\n",
    "hisName = 'Will'\n",
    "sentence = \"This is a string as a sentence\"\n",
    "var = [myName, hisName, sentence]\n",
    "\n",
    "boo = [True, False]\n",
    "nums2 = [1, 2, 5, 7, 3, 1, 4, 4, 4]\n",
    "\n",
    "\n",
    "# Indexing\n",
    "posA = abc.index(\"a\")\n",
    "posB = abc.index(\"b\")\n",
    "\n",
    "# Count\n",
    "total = nums2.count(4)\n",
    "\n",
    "# List Length\n",
    "length = len(var)\n",
    "\n",
    "\n",
    "# Add/Remove to List\n",
    "nums.append(5)\n",
    "\n",
    "nums.remove(5)\n",
    "\n",
    "\n",
    "# Tuples\n",
    "\n",
    "nums = (1, 2, 3, 4)\n",
    "abc = (\"a\", \"b\", \"c\")\n",
    "mix = (4, \"d\", 17.2)\n",
    "var = (myName, hisName, sentence)\n",
    "boo = (True, False)\n",
    "nums2 = (1, 2, 5, 7, 3, 1, 4, 4, 4)"
   ]
  },
  {
   "cell_type": "code",
   "execution_count": null,
   "metadata": {},
   "outputs": [],
   "source": [
    "# Below create a list that has four values in it\n",
    "\n"
   ]
  },
  {
   "source": [
    "## Dictionaries"
   ],
   "cell_type": "markdown",
   "metadata": {}
  },
  {
   "cell_type": "code",
   "execution_count": null,
   "metadata": {},
   "outputs": [],
   "source": [
    "dic = {\n",
    "    \"Name\": \"Sam\",\n",
    "    \"Age\": 20,\n",
    "    \"Major\": \"Chemical Enginneering\",\n",
    "    \"GPA\": 3.7\n",
    "}\n",
    "\n",
    "\n",
    "ageGrab = dic[\"Age\"]\n",
    "\n",
    "#dic[\"Age\"] = 21\n",
    "\n",
    "#print(ageGrab)"
   ]
  },
  {
   "source": [
    "## If Statements"
   ],
   "cell_type": "markdown",
   "metadata": {}
  },
  {
   "cell_type": "code",
   "execution_count": null,
   "metadata": {},
   "outputs": [],
   "source": [
    "x = 3\n",
    "y = 7\n",
    "sentence = \"is this a bad word?\"\n",
    "\n",
    "if (x + y == 10):\n",
    "    print(\"Correct Total\")\n",
    "    \n",
    "\n",
    "if \"bad word\" in (sentence):\n",
    "    print(\"Contains bad word\")\n",
    "\n",
    "if (x != y):\n",
    "    print(\"Not Equal\")\n",
    "\n",
    "\n",
    "if (1 > 2):\n",
    "    print(\"Statement 1\")\n",
    "else:\n",
    "    print(\"Statement 2\")\n",
    "\n",
    "\n",
    "if (x > y):\n",
    "    print(\"x is greater than y\")\n",
    "elif (x == y):\n",
    "    print(\"the values are equal\")\n",
    "else:\n",
    "    print(\"y is greater than x\")"
   ]
  },
  {
   "cell_type": "code",
   "execution_count": null,
   "metadata": {},
   "outputs": [],
   "source": [
    "# Below create an if statement that outputs if a word contains the letter \"a\"\n",
    "\n",
    "\n",
    "# Below create an if statement that outputs whether the number you selected \n",
    "# is less than or equal to 50, less than or equal to 100, or greater than 100\n",
    "\n",
    "\n",
    "# Below create an if statement that outputs if the selected number is even or odd \n",
    "\n"
   ]
  },
  {
   "source": [
    "## Loops"
   ],
   "cell_type": "markdown",
   "metadata": {}
  },
  {
   "source": [
    "### For Loop"
   ],
   "cell_type": "markdown",
   "metadata": {}
  },
  {
   "cell_type": "code",
   "execution_count": null,
   "metadata": {},
   "outputs": [],
   "source": [
    "for n in [1, 2, 3]:\n",
    "    print(n + 5)"
   ]
  },
  {
   "cell_type": "code",
   "execution_count": null,
   "metadata": {},
   "outputs": [],
   "source": [
    "for x in [\"a\", \"b\", \"c\"]:\n",
    "    print(x)\n",
    "    if x == \"b\":\n",
    "        break"
   ]
  },
  {
   "source": [
    "### While Loop"
   ],
   "cell_type": "markdown",
   "metadata": {}
  },
  {
   "cell_type": "code",
   "execution_count": null,
   "metadata": {},
   "outputs": [],
   "source": [
    "i = 0\n",
    "\n",
    "while i < 10:\n",
    "    i += 1\n",
    "    print(i)"
   ]
  },
  {
   "cell_type": "code",
   "execution_count": null,
   "metadata": {},
   "outputs": [],
   "source": [
    "# Below creata a for loop that appends the letter \"s\" to each string in a list of strings\n",
    "\n",
    "\n",
    "# Below create a for loop that prints all of the numbers in the list that are divisible by 5\n",
    "\n"
   ]
  },
  {
   "source": [
    "## Functions"
   ],
   "cell_type": "markdown",
   "metadata": {}
  },
  {
   "cell_type": "code",
   "execution_count": null,
   "metadata": {},
   "outputs": [],
   "source": [
    "def firstFunction():\n",
    "    print(\"Hello World\")\n",
    "    \n",
    "# firstFunction()"
   ]
  },
  {
   "cell_type": "code",
   "execution_count": null,
   "metadata": {},
   "outputs": [],
   "source": [
    "def weNeedAnA(word):\n",
    "    if 'a' in word:\n",
    "        print(\"We got an A!\")\n",
    "    else:\n",
    "        print(\"No A here\")\n",
    "        \n",
    "# weNeedAnA(\"star\")\n",
    "# weNeedAnA(\"string\")"
   ]
  },
  {
   "cell_type": "code",
   "execution_count": null,
   "metadata": {},
   "outputs": [],
   "source": [
    "def createASentence(word1, word2, word3):\n",
    "    print(word1 + \" \" + word2 + \" \" + word3 + \".\")\n",
    "    \n",
    "\n",
    "# createASentence(\"This\", \"is\", \"easy\")"
   ]
  },
  {
   "cell_type": "code",
   "execution_count": null,
   "metadata": {},
   "outputs": [],
   "source": [
    "list1 = [1, 2, 3, 4, 5, 6]\n",
    "\n",
    "def onlyEvens(list):\n",
    "    evens = []\n",
    "    for x in list:\n",
    "        if (x % 2 == 0):\n",
    "            evens.append(x)\n",
    "            \n",
    "    return(evens)\n",
    "            \n",
    "\n",
    "# onlyEvens(list1)"
   ]
  },
  {
   "cell_type": "code",
   "execution_count": null,
   "metadata": {},
   "outputs": [],
   "source": [
    "# Below create a function that multiplies the inputted integer or float by 10\n",
    "\n",
    "\n",
    "# Below design a function that decides if the inputted list is longer than 5 values in length. \n",
    "# You will need to create the list yourself\n",
    "\n",
    "\n",
    "# Below create a function that takes in a list and returns a list \n",
    "# that contains only unique values\n",
    "\n"
   ]
  },
  {
   "source": [
    "# Pandas"
   ],
   "cell_type": "markdown",
   "metadata": {}
  },
  {
   "cell_type": "code",
   "execution_count": null,
   "metadata": {},
   "outputs": [],
   "source": [
    "import pandas as pd\n",
    "import numpy as np\n",
    "import matplotlib.pyplot as plt"
   ]
  },
  {
   "cell_type": "code",
   "execution_count": null,
   "metadata": {},
   "outputs": [],
   "source": [
    "s = pd.Series([1, 3, 5, 6, 8])\n",
    "s"
   ]
  },
  {
   "cell_type": "code",
   "execution_count": null,
   "metadata": {},
   "outputs": [],
   "source": [
    "dates = pd.date_range('20200101', periods=6)\n",
    "dates"
   ]
  },
  {
   "cell_type": "code",
   "execution_count": null,
   "metadata": {},
   "outputs": [],
   "source": [
    "df = pd.DataFrame(np.random.randn(6,4), index=dates, columns=list('ABCD'))\n",
    "df"
   ]
  },
  {
   "cell_type": "code",
   "execution_count": null,
   "metadata": {},
   "outputs": [],
   "source": [
    "df.mean()"
   ]
  },
  {
   "cell_type": "code",
   "execution_count": null,
   "metadata": {},
   "outputs": [],
   "source": [
    "ts = pd.Series(np.random.randn(1000), index=pd.date_range('1/1/2000', periods=1000))\n",
    "ts = ts.cumsum()\n",
    "ts.plot()"
   ]
  },
  {
   "cell_type": "code",
   "execution_count": null,
   "metadata": {},
   "outputs": [],
   "source": [
    "df = pd.DataFrame(np.random.randn(1000, 4), index=pd.date_range('1/1/2000', periods=1000), columns=list('ABCD'))\n",
    "df = df.cumsum()\n",
    "df.plot()"
   ]
  },
  {
   "cell_type": "code",
   "execution_count": null,
   "metadata": {},
   "outputs": [],
   "source": [
    "df4 = pd.DataFrame({'a': np.random.randn(1000) + 1, 'b': np.random.randn(1000), 'c': np.random.randn(1000) - 1}, columns=['a', 'b', 'c'])\n",
    "df4.plot.hist(alpha=0.5)"
   ]
  },
  {
   "cell_type": "code",
   "execution_count": null,
   "metadata": {},
   "outputs": [],
   "source": [
    "df = pd.DataFrame(np.random.randn(50, 4), columns=list('abcd'))\n",
    "df.plot.scatter(x='a', y='b', c='c', s=50)"
   ]
  }
 ]
}